{
 "cells": [
  {
   "cell_type": "code",
   "execution_count": 18,
   "metadata": {},
   "outputs": [],
   "source": [
    "import math\n",
    "from functools import partial\n",
    "from collections import defaultdict\n",
    "from typing import Any, Sequence\n",
    "import numpy as np\n",
    "import matplotlib.pyplot as plt\n",
    "\n",
    "import jax\n",
    "import jax.numpy as jnp\n",
    "\n",
    "from flax import linen as nn\n",
    "from flax.training import train_state, common_utils\n",
    "import optax\n",
    "from typing import Callable, List, Optional\n",
    "\n",
    "import tensorflow as tf\n",
    "import tensorflow_datasets as tfds"
   ]
  },
  {
   "cell_type": "code",
   "execution_count": 2,
   "metadata": {},
   "outputs": [
    {
     "name": "stderr",
     "output_type": "stream",
     "text": [
      "2024-10-20 18:54:00.690398: W tensorflow/core/common_runtime/gpu/gpu_device.cc:2343] Cannot dlopen some GPU libraries. Please make sure the missing libraries mentioned above are installed properly if you would like to use GPU. Follow the guide at https://www.tensorflow.org/install/gpu for how to download and setup the required libraries for your platform.\n",
      "Skipping registering GPU devices...\n"
     ]
    }
   ],
   "source": [
    "tf.config.set_visible_devices([], 'GPU')"
   ]
  },
  {
   "cell_type": "code",
   "execution_count": 3,
   "metadata": {},
   "outputs": [
    {
     "data": {
      "text/plain": [
       "[CudaDevice(id=0)]"
      ]
     },
     "execution_count": 3,
     "metadata": {},
     "output_type": "execute_result"
    }
   ],
   "source": [
    "jax.local_devices()"
   ]
  },
  {
   "cell_type": "code",
   "execution_count": 4,
   "metadata": {},
   "outputs": [
    {
     "name": "stderr",
     "output_type": "stream",
     "text": [
      "2024-10-20 18:54:01.170947: W external/xla/xla/service/gpu/nvptx_compiler.cc:930] The NVIDIA driver's CUDA version is 12.4 which is older than the PTX compiler version 12.6.77. Because the driver is older than the PTX compiler version, XLA is disabling parallel compilation, which may slow down compilation. You should update your NVIDIA driver or use the NVIDIA-provided CUDA forward compatibility packages.\n"
     ]
    }
   ],
   "source": [
    "rng = jax.random.PRNGKey(0)\n"
   ]
  },
  {
   "cell_type": "code",
   "execution_count": 5,
   "metadata": {},
   "outputs": [],
   "source": [
    "def augment_image(img):\n",
    "    img = tf.image.resize_with_crop_or_pad(img, 40, 40)\n",
    "    img = tf.image.random_crop(img, [32, 32, 3])\n",
    "    img = tf.image.random_flip_left_right(img)\n",
    "    img = tf.image.random_brightness(img, max_delta=0.2)\n",
    "    img = tf.image.random_contrast(img, 0.8, 1.2)\n",
    "    img = tf.image.random_saturation(img, 0.8, 1.2)\n",
    "    return img\n",
    "\n",
    "def val_process_sample(x):\n",
    "    image = tf.image.convert_image_dtype(x['image'], dtype=tf.float32)\n",
    "    return {'image': image, 'label': x['label']}\n",
    "\n",
    "def train_process_sample(x):\n",
    "    image = augment_image(x['image'])\n",
    "    image = tf.image.convert_image_dtype(image, dtype=tf.float32)\n",
    "    return {'image': image, 'label': x['label']}\n",
    "\n",
    "def prepare_train_dataset(dataset_builder, batch_size):\n",
    "    ds = dataset_builder.as_dataset(split='train')\n",
    "    ds = ds.repeat()\n",
    "    ds = ds.map(train_process_sample, num_parallel_calls=tf.data.AUTOTUNE)\n",
    "    df = ds.shuffle(16 * batch_size, reshuffle_each_iteration=True, seed=0)\n",
    "    ds = ds.batch(batch_size)\n",
    "    ds = ds.prefetch(10)\n",
    "    return ds\n",
    "\n",
    "def prepare_val_dataset(dataset_builder, batch_size):\n",
    "    ds = dataset_builder.as_dataset(split='test')\n",
    "    ds = ds.map(val_process_sample, num_parallel_calls=tf.data.AUTOTUNE)\n",
    "    ds = ds.batch(batch_size)\n",
    "    ds = ds.repeat()\n",
    "    ds = ds.prefetch(10)\n",
    "    return ds\n",
    "\n",
    "def tf_to_numpy(xs):\n",
    "    return jax.tree_util.tree_map(lambda x: x._numpy(), xs)\n",
    "\n",
    "def dataset_to_iterator(ds):\n",
    "    it = map(tf_to_numpy, ds)\n",
    "    return it"
   ]
  },
  {
   "cell_type": "code",
   "execution_count": 6,
   "metadata": {},
   "outputs": [],
   "source": [
    "dataset_builder = tfds.builder('cifar10')\n",
    "dataset_builder.download_and_prepare()"
   ]
  },
  {
   "cell_type": "code",
   "execution_count": 21,
   "metadata": {},
   "outputs": [],
   "source": [
    "class ConvBlock(nn.Module):\n",
    "    channels: int\n",
    "    kernel_size: int\n",
    "    norm: Any\n",
    "    stride: int = 1\n",
    "    act: bool = True\n",
    "    \n",
    "    @nn.compact\n",
    "    def __call__(self, x):\n",
    "        x = nn.Conv(self.channels, (self.kernel_size, self.kernel_size), strides=self.stride,\n",
    "                    padding='SAME', use_bias=False, kernel_init=nn.initializers.kaiming_normal())(x)\n",
    "        x = self.norm()(x)\n",
    "        if self.act:\n",
    "            x = nn.swish(x)\n",
    "        return x\n",
    "\n",
    "class ResidualBlock(nn.Module):\n",
    "    channels: int\n",
    "    conv_block: Any\n",
    "    \n",
    "    @nn.compact\n",
    "    def __call__(self, x):\n",
    "        channels = self.channels\n",
    "        conv_block = self.conv_block\n",
    "        \n",
    "        shortcut = x\n",
    "        \n",
    "        residual = conv_block(channels, 3)(x)\n",
    "        residual = conv_block(channels, 3, act=False)(residual)\n",
    "        \n",
    "        if shortcut.shape != residual.shape:\n",
    "            shortcut = conv_block(channels, 1, act=False)(shortcut)\n",
    "        \n",
    "        gamma = self.param('gamma', nn.initializers.zeros, 1, jnp.float32)\n",
    "        out = shortcut + gamma * residual\n",
    "        out = nn.swish(out)\n",
    "        return out\n",
    "\n",
    "\n",
    "class Stage(nn.Module):\n",
    "    channels: int\n",
    "    num_blocks: int\n",
    "    stride: int\n",
    "    block: Any\n",
    "    \n",
    "    @nn.compact\n",
    "    def __call__(self, x):\n",
    "        stride = self.stride\n",
    "        if stride > 1:\n",
    "            x = nn.max_pool(x, (stride, stride), strides=(stride, stride))\n",
    "        for _ in range(self.num_blocks):\n",
    "            x = self.block(self.channels)(x)\n",
    "        return x\n",
    "\n",
    "class Body(nn.Module):\n",
    "    channel_list: Sequence[int]\n",
    "    num_blocks_list: Sequence[int]\n",
    "    strides: Sequence[int]\n",
    "    stage: Any\n",
    "    \n",
    "    @nn.compact\n",
    "    def __call__(self, x):\n",
    "        for channels, num_blocks, stride in zip(self.channel_list, self.num_blocks_list, self.strides):\n",
    "            x = self.stage(channels, num_blocks, stride)(x)\n",
    "        return x\n",
    "\n",
    "class Stem(nn.Module):\n",
    "    channel_list: Sequence[int]\n",
    "    stride: int\n",
    "    conv_block: Any\n",
    "    \n",
    "    @nn.compact\n",
    "    def __call__(self, x):\n",
    "        stride = self.stride\n",
    "        for channels in self.channel_list:\n",
    "            x = self.conv_block(channels, 3, stride=stride)(x)\n",
    "            stride = 1\n",
    "        return x\n",
    "\n",
    "class Head(nn.Module):\n",
    "    classes: int\n",
    "\n",
    "    @nn.compact\n",
    "    def __call__(self, x):\n",
    "        x = jnp.mean(x, axis=(1, 2))\n",
    "        x = nn.Dense(self.classes)(x)\n",
    "        return x\n",
    "\n",
    "class ResNet(nn.Module):\n",
    "    classes: int\n",
    "    channel_list: Sequence[int]\n",
    "    num_blocks_list: Sequence[int]\n",
    "    strides: Sequence[int]\n",
    "    head_p_drop: float = 0.\n",
    "    \n",
    "    @nn.compact\n",
    "    def __call__(self, x):\n",
    "        # norm = partial(nn.BatchNorm, use_running_average=not train)\n",
    "        # dropout = partial(nn.Dropout, rate=self.head_p_drop, deterministic=not train)\n",
    "        norm = nn.LayerNorm\n",
    "        conv_block = partial(ConvBlock, norm=norm)\n",
    "        residual_block = partial(ResidualBlock, conv_block=conv_block)\n",
    "        stage = partial(Stage, block=residual_block)\n",
    "        \n",
    "        x = Stem([32, 32, 64], self.strides[0], conv_block)(x)\n",
    "        x = Body(self.channel_list, self.num_blocks_list, self.strides[1:], stage)(x)\n",
    "        x = Head(self.classes)(x)\n",
    "        return x"
   ]
  },
  {
   "cell_type": "code",
   "execution_count": 9,
   "metadata": {},
   "outputs": [],
   "source": []
  },
  {
   "cell_type": "code",
   "execution_count": 22,
   "metadata": {},
   "outputs": [],
   "source": [
    "def cross_entropy_loss(logits, labels):\n",
    "    one_hot_labels = common_utils.onehot(labels, num_classes=10)\n",
    "    loss = optax.softmax_cross_entropy(logits=logits, labels=one_hot_labels)\n",
    "    loss = jnp.mean(loss)\n",
    "    return loss\n",
    "\n",
    "def compute_metrics(logits, labels):\n",
    "    loss = cross_entropy_loss(logits, labels)\n",
    "    accuracy = jnp.mean(jnp.argmax(logits, -1) == labels)\n",
    "    metrics = {\n",
    "      'loss': loss,\n",
    "      'accuracy': accuracy,\n",
    "    }\n",
    "    return metrics\n",
    "\n",
    "def metrics_summary(metrics):\n",
    "    metrics = jax.device_get(metrics)\n",
    "    metrics = jax.tree_multimap(lambda *args: np.stack(args), *metrics)\n",
    "    summary = jax.tree_util.tree_map(lambda x: x.mean(), metrics)\n",
    "    return summary\n",
    "\n",
    "def log_metrics(history, summary, name):\n",
    "    print(f\"{name}: \", end='', flush=True)\n",
    "    for key, val in summary.items():\n",
    "        history[name + ' ' + key].append(val)\n",
    "        print(f\"{key} {val:.3f} \", end='')"
   ]
  },
  {
   "cell_type": "code",
   "execution_count": 65,
   "metadata": {},
   "outputs": [],
   "source": [
    "\n",
    "\n",
    "model = ResNet(10,\n",
    "               channel_list = [64, 128, 256, 512],\n",
    "               num_blocks_list = [2, 2, 2, 2],\n",
    "               strides = [1, 1, 2, 2, 2],\n",
    "               head_p_drop = 0.3)\n",
    "\n",
    "IMAGE_SIZE = 32\n",
    "\n",
    "def initialize(model, params_rng):\n",
    "    init_rngs = {'params': params_rng}\n",
    "    input_shape = (1, IMAGE_SIZE, IMAGE_SIZE, 3)\n",
    "    variables = model.init(init_rngs, jnp.ones(input_shape, jnp.float32))\n",
    "    return variables\n",
    "\n",
    "params_rng, rng = jax.random.split(rng)\n",
    "params_init = initialize(model, params_rng)\n"
   ]
  },
  {
   "cell_type": "code",
   "execution_count": 88,
   "metadata": {},
   "outputs": [
    {
     "name": "stderr",
     "output_type": "stream",
     "text": [
      "2024-10-20 20:23:06.990526: W tensorflow/core/kernels/data/cache_dataset_ops.cc:913] The calling iterator did not fully read the dataset being cached. In order to avoid unexpected truncation of the dataset, the partially cached contents of the dataset  will be discarded. This can happen if you have an input pipeline similar to `dataset.cache().take(k).repeat()`. You should use `dataset.take(k).cache().repeat()` instead.\n"
     ]
    }
   ],
   "source": [
    "BATCH_SIZE = 64\n",
    "\n",
    "train_steps_per_epoch = math.ceil(dataset_builder.info.splits['train'].num_examples / BATCH_SIZE)\n",
    "val_steps_per_epoch = math.ceil(dataset_builder.info.splits['test'].num_examples / BATCH_SIZE)\n",
    "\n",
    "train_ds = prepare_train_dataset(dataset_builder, BATCH_SIZE)\n",
    "val_ds = prepare_val_dataset(dataset_builder, BATCH_SIZE)\n",
    "\n",
    "train_iter = dataset_to_iterator(train_ds)\n",
    "val_iter = dataset_to_iterator(val_ds)"
   ]
  },
  {
   "cell_type": "code",
   "execution_count": 89,
   "metadata": {},
   "outputs": [],
   "source": [
    "class ConvBlock(nn.Module):\n",
    "    channels: int\n",
    "    kernel_size: int\n",
    "    norm: Any\n",
    "    stride: int = 1\n",
    "    act: bool = True\n",
    "    \n",
    "    @nn.compact\n",
    "    def __call__(self, x):\n",
    "        x = nn.Conv(self.channels, (self.kernel_size, self.kernel_size), strides=self.stride,\n",
    "                    padding='SAME', use_bias=False, kernel_init=nn.initializers.kaiming_normal())(x)\n",
    "        x = self.norm()(x)\n",
    "        if self.act:\n",
    "            x = nn.swish(x)\n",
    "        return x"
   ]
  },
  {
   "cell_type": "code",
   "execution_count": 90,
   "metadata": {},
   "outputs": [],
   "source": [
    "class CNN(nn.Module):\n",
    "    channels: int\n",
    "    depth: int\n",
    "    out_dim: int\n",
    "    kernel_size: int\n",
    "\n",
    "    @nn.compact\n",
    "    def __call__(self, x):\n",
    "        channels = self.channels\n",
    "\n",
    "        if len(x.shape) < 2:\n",
    "            x = x.reshape(-1,1)\n",
    "\n",
    "        A = nn.swish\n",
    "        for i, layer in enumerate(range(self.depth)):\n",
    "            is_last = i == self.depth - 1\n",
    "            if is_last:\n",
    "                channels = self.out_dim\n",
    "            L = nn.Conv(channels, (self.kernel_size, ), padding='SAME')\n",
    "      \n",
    "            x = L(x)\n",
    "            \n",
    "            if not is_last:\n",
    "                x = A(x)\n",
    "\n",
    "        x = jnp.squeeze(x)\n",
    "        \n",
    "        return x\n"
   ]
  },
  {
   "cell_type": "code",
   "execution_count": 91,
   "metadata": {},
   "outputs": [
    {
     "name": "stdout",
     "output_type": "stream",
     "text": [
      "(4305,)\n"
     ]
    }
   ],
   "source": [
    "from jax.flatten_util import ravel_pytree\n",
    "from jax import jacfwd\n",
    "\n",
    "params_flat, params_unravel = ravel_pytree(params_init)\n",
    "\n",
    "channels = 16\n",
    "mini_rngs, rng = jax.random.split(rng)\n",
    "mini = CNN(channels=channels, depth=6, out_dim=1, kernel_size=4)\n",
    "mini_params_init = mini.init(mini_rngs, jnp.ones( (*params_flat.shape,)))\n",
    "mini_flat, _ = ravel_pytree(mini_params_init)\n",
    "\n",
    "loss = mini.apply(mini_params_init, params_flat)\n",
    "print(mini_flat.shape)"
   ]
  },
  {
   "cell_type": "code",
   "execution_count": 92,
   "metadata": {},
   "outputs": [],
   "source": [
    "optimizer_mini = optax.adamw(learning_rate=2e-2)\n",
    "state_opti_m = optimizer_mini.init(mini_params_init)\n",
    "\n",
    "def mini_loss_fn(params, grad):\n",
    "    mini_grad = mini.apply(params, grad)\n",
    "    loss = jnp.linalg.norm(grad - mini_grad) / jnp.linalg.norm(grad)\n",
    "    return loss\n"
   ]
  },
  {
   "cell_type": "code",
   "execution_count": 94,
   "metadata": {},
   "outputs": [
    {
     "data": {
      "application/vnd.jupyter.widget-view+json": {
       "model_id": "1a16ca503ff44433ad92bc23c7ca590b",
       "version_major": 2,
       "version_minor": 0
      },
      "text/plain": [
       "epoch: 1:   0%|          | 0/782 [00:00<?, ?it/s]"
      ]
     },
     "metadata": {},
     "output_type": "display_data"
    },
    {
     "name": "stdout",
     "output_type": "stream",
     "text": [
      "{'accuracy': Array(0.375, dtype=float32), 'loss': Array(1.5003564, dtype=float32)}\n"
     ]
    },
    {
     "data": {
      "application/vnd.jupyter.widget-view+json": {
       "model_id": "1fbaed34e10b465c9816db2d94f33cd2",
       "version_major": 2,
       "version_minor": 0
      },
      "text/plain": [
       "epoch: 2:   0%|          | 0/782 [00:00<?, ?it/s]"
      ]
     },
     "metadata": {},
     "output_type": "display_data"
    },
    {
     "name": "stdout",
     "output_type": "stream",
     "text": [
      "{'accuracy': Array(0.5, dtype=float32), 'loss': Array(1.2846218, dtype=float32)}\n"
     ]
    },
    {
     "data": {
      "application/vnd.jupyter.widget-view+json": {
       "model_id": "288d1c737ef746fcbe7fcc18a092470c",
       "version_major": 2,
       "version_minor": 0
      },
      "text/plain": [
       "epoch: 3:   0%|          | 0/782 [00:00<?, ?it/s]"
      ]
     },
     "metadata": {},
     "output_type": "display_data"
    },
    {
     "name": "stdout",
     "output_type": "stream",
     "text": [
      "{'accuracy': Array(0.625, dtype=float32), 'loss': Array(0.9605688, dtype=float32)}\n"
     ]
    },
    {
     "data": {
      "application/vnd.jupyter.widget-view+json": {
       "model_id": "6a985c58441a45b7b080124462fdc62d",
       "version_major": 2,
       "version_minor": 0
      },
      "text/plain": [
       "epoch: 4:   0%|          | 0/782 [00:00<?, ?it/s]"
      ]
     },
     "metadata": {},
     "output_type": "display_data"
    },
    {
     "name": "stdout",
     "output_type": "stream",
     "text": [
      "{'accuracy': Array(0.75, dtype=float32), 'loss': Array(1.0181952, dtype=float32)}\n"
     ]
    },
    {
     "data": {
      "application/vnd.jupyter.widget-view+json": {
       "model_id": "ebfc50ca28384286b1650a22f3382a85",
       "version_major": 2,
       "version_minor": 0
      },
      "text/plain": [
       "epoch: 5:   0%|          | 0/782 [00:00<?, ?it/s]"
      ]
     },
     "metadata": {},
     "output_type": "display_data"
    },
    {
     "ename": "KeyboardInterrupt",
     "evalue": "",
     "output_type": "error",
     "traceback": [
      "\u001b[0;31m---------------------------------------------------------------------------\u001b[0m",
      "\u001b[0;31mKeyboardInterrupt\u001b[0m                         Traceback (most recent call last)",
      "Cell \u001b[0;32mIn[94], line 60\u001b[0m\n\u001b[1;32m     58\u001b[0m     batch \u001b[38;5;241m=\u001b[39m \u001b[38;5;28mnext\u001b[39m(train_iter)\n\u001b[1;32m     59\u001b[0m     opt_params, opt_params_m, state_opti, state_opti_m, metrics \u001b[38;5;241m=\u001b[39m train_step(opt_params, batch, opt_params_m, state_opti, state_opti_m)\n\u001b[0;32m---> 60\u001b[0m     pbar\u001b[38;5;241m.\u001b[39mset_postfix({\u001b[38;5;124m'\u001b[39m\u001b[38;5;124macc\u001b[39m\u001b[38;5;124m'\u001b[39m: \u001b[38;5;124mf\u001b[39m\u001b[38;5;124m'\u001b[39m\u001b[38;5;132;01m{\u001b[39;00mmetrics[\u001b[38;5;124m\"\u001b[39m\u001b[38;5;124maccuracy\u001b[39m\u001b[38;5;124m\"\u001b[39m]\u001b[38;5;132;01m:\u001b[39;00m\u001b[38;5;124m.3f\u001b[39m\u001b[38;5;132;01m}\u001b[39;00m\u001b[38;5;124m'\u001b[39m, \u001b[38;5;124m'\u001b[39m\u001b[38;5;124mloss\u001b[39m\u001b[38;5;124m'\u001b[39m: \u001b[38;5;124mf\u001b[39m\u001b[38;5;124m'\u001b[39m\u001b[38;5;132;01m{\u001b[39;00mmetrics[\u001b[38;5;124m\"\u001b[39m\u001b[38;5;124mloss\u001b[39m\u001b[38;5;124m\"\u001b[39m]\u001b[38;5;132;01m:\u001b[39;00m\u001b[38;5;124m.3E\u001b[39m\u001b[38;5;132;01m}\u001b[39;00m\u001b[38;5;124m'\u001b[39m, \u001b[38;5;124m'\u001b[39m\u001b[38;5;124mm_loss\u001b[39m\u001b[38;5;124m'\u001b[39m: \u001b[38;5;124mf\u001b[39m\u001b[38;5;124m'\u001b[39m\u001b[38;5;132;01m{\u001b[39;00mmetrics[\u001b[38;5;124m\"\u001b[39m\u001b[38;5;124mm_loss\u001b[39m\u001b[38;5;124m\"\u001b[39m]\u001b[38;5;132;01m:\u001b[39;00m\u001b[38;5;124m.3E\u001b[39m\u001b[38;5;132;01m}\u001b[39;00m\u001b[38;5;124m'\u001b[39m})\n\u001b[1;32m     62\u001b[0m train_metrics\u001b[38;5;241m.\u001b[39mappend(metrics)\n\u001b[1;32m     64\u001b[0m \u001b[38;5;66;03m# summary = metrics_summary(train_metrics)\u001b[39;00m\n\u001b[1;32m     65\u001b[0m \u001b[38;5;66;03m# log_metrics(history, summary, 'train')\u001b[39;00m\n",
      "File \u001b[0;32m~/.conda-envs/cone/lib/python3.11/site-packages/jax/_src/array.py:325\u001b[0m, in \u001b[0;36mArrayImpl.__format__\u001b[0;34m(self, format_spec)\u001b[0m\n\u001b[1;32m    322\u001b[0m \u001b[38;5;28;01mdef\u001b[39;00m \u001b[38;5;21m__format__\u001b[39m(\u001b[38;5;28mself\u001b[39m, format_spec):\n\u001b[1;32m    323\u001b[0m   \u001b[38;5;66;03m# Simulates behavior of https://github.com/numpy/numpy/pull/9883\u001b[39;00m\n\u001b[1;32m    324\u001b[0m   \u001b[38;5;28;01mif\u001b[39;00m \u001b[38;5;28mself\u001b[39m\u001b[38;5;241m.\u001b[39mndim \u001b[38;5;241m==\u001b[39m \u001b[38;5;241m0\u001b[39m:\n\u001b[0;32m--> 325\u001b[0m     \u001b[38;5;28;01mreturn\u001b[39;00m \u001b[38;5;28mformat\u001b[39m(\u001b[38;5;28;43mself\u001b[39;49m\u001b[38;5;241;43m.\u001b[39;49m\u001b[43m_value\u001b[49m[()], format_spec)\n\u001b[1;32m    326\u001b[0m   \u001b[38;5;28;01melse\u001b[39;00m:\n\u001b[1;32m    327\u001b[0m     \u001b[38;5;28;01mreturn\u001b[39;00m \u001b[38;5;28mformat\u001b[39m(\u001b[38;5;28mself\u001b[39m\u001b[38;5;241m.\u001b[39m_value, format_spec)\n",
      "File \u001b[0;32m~/.conda-envs/cone/lib/python3.11/site-packages/jax/_src/profiler.py:333\u001b[0m, in \u001b[0;36mannotate_function.<locals>.wrapper\u001b[0;34m(*args, **kwargs)\u001b[0m\n\u001b[1;32m    330\u001b[0m \u001b[38;5;129m@wraps\u001b[39m(func)\n\u001b[1;32m    331\u001b[0m \u001b[38;5;28;01mdef\u001b[39;00m \u001b[38;5;21mwrapper\u001b[39m(\u001b[38;5;241m*\u001b[39margs, \u001b[38;5;241m*\u001b[39m\u001b[38;5;241m*\u001b[39mkwargs):\n\u001b[1;32m    332\u001b[0m   \u001b[38;5;28;01mwith\u001b[39;00m TraceAnnotation(name, \u001b[38;5;241m*\u001b[39m\u001b[38;5;241m*\u001b[39mdecorator_kwargs):\n\u001b[0;32m--> 333\u001b[0m     \u001b[38;5;28;01mreturn\u001b[39;00m \u001b[43mfunc\u001b[49m\u001b[43m(\u001b[49m\u001b[38;5;241;43m*\u001b[39;49m\u001b[43margs\u001b[49m\u001b[43m,\u001b[49m\u001b[43m \u001b[49m\u001b[38;5;241;43m*\u001b[39;49m\u001b[38;5;241;43m*\u001b[39;49m\u001b[43mkwargs\u001b[49m\u001b[43m)\u001b[49m\n\u001b[1;32m    334\u001b[0m   \u001b[38;5;28;01mreturn\u001b[39;00m wrapper\n",
      "File \u001b[0;32m~/.conda-envs/cone/lib/python3.11/site-packages/jax/_src/array.py:624\u001b[0m, in \u001b[0;36mArrayImpl._value\u001b[0;34m(self)\u001b[0m\n\u001b[1;32m    622\u001b[0m \u001b[38;5;28;01mif\u001b[39;00m \u001b[38;5;28mself\u001b[39m\u001b[38;5;241m.\u001b[39m_npy_value \u001b[38;5;129;01mis\u001b[39;00m \u001b[38;5;28;01mNone\u001b[39;00m:\n\u001b[1;32m    623\u001b[0m   \u001b[38;5;28;01mif\u001b[39;00m \u001b[38;5;28mself\u001b[39m\u001b[38;5;241m.\u001b[39mis_fully_replicated:\n\u001b[0;32m--> 624\u001b[0m     \u001b[38;5;28mself\u001b[39m\u001b[38;5;241m.\u001b[39m_npy_value \u001b[38;5;241m=\u001b[39m \u001b[38;5;28;43mself\u001b[39;49m\u001b[38;5;241;43m.\u001b[39;49m\u001b[43m_single_device_array_to_np_array\u001b[49m\u001b[43m(\u001b[49m\u001b[43m)\u001b[49m\n\u001b[1;32m    625\u001b[0m     \u001b[38;5;28mself\u001b[39m\u001b[38;5;241m.\u001b[39m_npy_value\u001b[38;5;241m.\u001b[39mflags\u001b[38;5;241m.\u001b[39mwriteable \u001b[38;5;241m=\u001b[39m \u001b[38;5;28;01mFalse\u001b[39;00m\n\u001b[1;32m    626\u001b[0m     \u001b[38;5;28;01mreturn\u001b[39;00m cast(np\u001b[38;5;241m.\u001b[39mndarray, \u001b[38;5;28mself\u001b[39m\u001b[38;5;241m.\u001b[39m_npy_value)\n",
      "\u001b[0;31mKeyboardInterrupt\u001b[0m: "
     ]
    }
   ],
   "source": [
    "from tqdm.auto import tqdm\n",
    "history = defaultdict(list)\n",
    "epochs = 25\n",
    "LEARNING_RATE = 1e-2\n",
    "WEIGHT_DECAY = 1e-2\n",
    "\n",
    "num_train_steps = train_steps_per_epoch * epochs\n",
    "\n",
    "shedule_fn = optax.cosine_onecycle_schedule(transition_steps=num_train_steps, peak_value=LEARNING_RATE)\n",
    "optimizer = optax.adamw(learning_rate=shedule_fn, weight_decay=WEIGHT_DECAY)\n",
    "state_opti = optimizer.init(params_init)\n",
    "\n",
    "mini_opt_iters = 8\n",
    "\n",
    "def loss_fn(params, batch):\n",
    "    logits = model.apply(params, batch['image'])\n",
    "    loss = cross_entropy_loss(logits, batch['label'])\n",
    "    return loss, logits\n",
    "\n",
    "@jax.jit\n",
    "def train_step(params, batch, params_m, state_opti, state_opti_m):\n",
    "\n",
    "    grad_fn = jax.value_and_grad(loss_fn, has_aux=True)\n",
    "    (loss, logits), grads = grad_fn(params, batch)\n",
    "\n",
    "    updates, state_opti = optimizer.update(grads, state_opti, params)\n",
    "    params = optax.apply_updates(params, updates)  \n",
    "    metrics = compute_metrics(logits, batch['label'])\n",
    "    \n",
    "    # update mini\n",
    "    grads_flat, _ = ravel_pytree(grads)\n",
    "    mini_grad_fn = jax.value_and_grad(mini_loss_fn)\n",
    "    for _ in range(mini_opt_iters):\n",
    "        m_loss, m_grads = mini_grad_fn(params_m, grads_flat)\n",
    "        updates, state_opti_m = optimizer_mini.update(m_grads, state_opti_m, params_m)\n",
    "        params_m = optax.apply_updates(params_m, updates)  \n",
    "\n",
    "    metrics['m_loss'] = m_loss\n",
    "    return params, params_m, state_opti, state_opti_m, metrics\n",
    "\n",
    "\n",
    "@jax.jit\n",
    "def eval_step(params, batch):\n",
    "    logits = model.apply(params, batch['image'])\n",
    "    metrics = compute_metrics(logits, batch['label'])\n",
    "    return metrics\n",
    "\n",
    "opt_params = params_init\n",
    "opt_params_m = mini_params_init\n",
    "for epoch in range(1, epochs + 1):\n",
    "    \n",
    "    train_metrics = []\n",
    "    \n",
    "\n",
    "    pbar = tqdm(range(train_steps_per_epoch), desc=f'epoch: {epoch}')\n",
    "\n",
    "    for step in pbar:\n",
    "        batch = next(train_iter)\n",
    "        opt_params, opt_params_m, state_opti, state_opti_m, metrics = train_step(opt_params, batch, opt_params_m, state_opti, state_opti_m)\n",
    "        pbar.set_postfix({'acc': f'{metrics[\"accuracy\"]:.3f}', 'loss': f'{metrics[\"loss\"]:.3E}', 'm_loss': f'{metrics[\"m_loss\"]:.3E}'})\n",
    "\n",
    "    train_metrics.append(metrics)\n",
    "\n",
    "    # summary = metrics_summary(train_metrics)\n",
    "    # log_metrics(history, summary, 'train')\n",
    "\n",
    "    val_metrics = []\n",
    "    for step in range(val_steps_per_epoch):\n",
    "        batch = next(val_iter)\n",
    "        metrics = eval_step(opt_params, batch)\n",
    "        val_metrics.append(metrics)\n",
    "    \n",
    "    print(metrics)\n",
    "    # print()\n",
    "\n"
   ]
  },
  {
   "cell_type": "code",
   "execution_count": null,
   "metadata": {},
   "outputs": [],
   "source": [
    "val_metrics"
   ]
  },
  {
   "cell_type": "code",
   "execution_count": 16,
   "metadata": {},
   "outputs": [
    {
     "data": {
      "image/png": "[encoded data removed]",
      "text/plain": [
       "<Figure size 640x480 with 1 Axes>"
      ]
     },
     "metadata": {},
     "output_type": "display_data"
    },
    {
     "data": {
      "image/png": "[encoded data removed]",
      "text/plain": [
       "<Figure size 640x480 with 1 Axes>"
      ]
     },
     "metadata": {},
     "output_type": "display_data"
    }
   ],
   "source": [
    "def plot_history_train_val(history, key):\n",
    "    fig = plt.figure()\n",
    "    ax = fig.add_subplot(111)\n",
    "    xs = np.arange(1, len(history['train ' + key]) + 1)\n",
    "    ax.plot(xs, history['train ' + key], '.-', label='train')\n",
    "    ax.plot(xs, history['val ' + key], '.-', label='val')\n",
    "    ax.set_xlabel('epoch')\n",
    "    ax.set_ylabel(key)\n",
    "    ax.legend()\n",
    "    ax.grid()\n",
    "    plt.show()\n",
    "\n",
    "plot_history_train_val(history, 'loss')\n",
    "plot_history_train_val(history, 'accuracy')\n"
   ]
  },
  {
   "cell_type": "code",
   "execution_count": null,
   "metadata": {},
   "outputs": [],
   "source": []
  }
 ],
 "metadata": {
  "kernelspec": {
   "display_name": "Python 3 (ipykernel)",
   "language": "python",
   "name": "python3"
  },
  "language_info": {
   "codemirror_mode": {
    "name": "ipython",
    "version": 3
   },
   "file_extension": ".py",
   "mimetype": "text/x-python",
   "name": "python",
   "nbconvert_exporter": "python",
   "pygments_lexer": "ipython3",
   "version": "3.11.10"
  }
 },
 "nbformat": 4,
 "nbformat_minor": 2
}
