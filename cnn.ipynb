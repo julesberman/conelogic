{
 "cells": [
  {
   "cell_type": "code",
   "execution_count": 12,
   "metadata": {},
   "outputs": [],
   "source": [
    "import typing as tp\n",
    "\n",
    "import jax\n",
    "import jax.numpy as jnp\n",
    "import matplotlib.pyplot as plt\n",
    "import numpy as np\n",
    "import optax\n",
    "from flax import nnx"
   ]
  },
  {
   "cell_type": "code",
   "execution_count": 65,
   "metadata": {},
   "outputs": [],
   "source": [
    "\n",
    "\n",
    "class CNN(nnx.Module):\n",
    "    def __init__(self, in_feature: int, out_feature: int, features: tp.Sequence[int], kernel: int, dim: int, padding: str = 'VALID', *, rngs: nnx.Rngs):\n",
    "\n",
    "        kernel_size = (kernel, ) * dim\n",
    "        conv_layers = []\n",
    "        io_features = zip([in_feature, *features], [*features, out_feature])\n",
    "        for in_f, out_f in io_features:\n",
    "            l = nnx.Conv(in_features=in_f, out_features=out_f, kernel_size=kernel_size,\n",
    "                         padding=padding, rngs=rngs)\n",
    "            conv_layers.append(l)\n",
    "        self.conv_layers = conv_layers\n",
    "\n",
    "    def __call__(self, x: jax.Array):\n",
    "        for l in self.conv_layers:\n",
    "            x = l(x)\n",
    "            x = nnx.swish(x)\n",
    "\n",
    "        return x\n",
    "\n",
    "\n",
    "class VAE(nnx.Module):\n",
    "    def __init__(\n",
    "        self,\n",
    "        io_features: int,\n",
    "        latent_feature: int,\n",
    "        physical_dim: int,\n",
    "        encoder_features: tp.Sequence[int],\n",
    "        decoder_features: tp.Sequence[int],\n",
    "        kernel: int,\n",
    "        padding: str = 'VALID',\n",
    "        variational: bool = True,\n",
    "        *,\n",
    "        rngs: nnx.Rngs,\n",
    "\n",
    "    ):\n",
    "        self.variational = variational\n",
    "        self.encoder = CNN(in_feature=io_features, out_feature=latent_feature,\n",
    "                           features=encoder_features, kernel=kernel, dim=physical_dim, padding=padding, rngs=rngs)\n",
    "        if self.variational:\n",
    "            assert latent_feature % 2 == 0, 'latent_feature must be devisible by two for variational training'\n",
    "            decoder_latent = latent_feature // 2\n",
    "        self.decoder = CNN(in_feature=decoder_latent, out_feature=io_features,\n",
    "                           features=decoder_features, kernel=kernel, dim=physical_dim, padding=padding, rngs=rngs)\n",
    "\n",
    "        self.rngs = rngs\n",
    "\n",
    "    def __call__(self, x: jax.Array) -> jax.Array:\n",
    "        z = self.encoder(x)\n",
    "\n",
    "        if self.variational:\n",
    "            mean, std = jnp.split(z, 2, axis=-1)\n",
    "            std = jnp.exp(std)\n",
    "            key = self.rngs.noise()\n",
    "            z = mean + std * jax.random.normal(key, mean.shape)\n",
    "\n",
    "        logits = self.decoder(z)\n",
    "        return logits"
   ]
  },
  {
   "cell_type": "code",
   "execution_count": 32,
   "metadata": {},
   "outputs": [],
   "source": [
    "from datasets import load_dataset\n",
    "\n",
    "\n",
    "dataset = load_dataset('mnist')\n",
    "X_train = np.array(np.stack(dataset['train']['image']), dtype=np.uint8)\n",
    "X_test = np.array(np.stack(dataset['test']['image']), dtype=np.uint8)\n",
    "# Now binarize data\n",
    "X_train = (X_train > 0).astype(jnp.float32)\n",
    "X_test = (X_test > 0).astype(jnp.float32)\n",
    "\n"
   ]
  },
  {
   "cell_type": "code",
   "execution_count": 66,
   "metadata": {},
   "outputs": [],
   "source": [
    "io_features = 1\n",
    "latent_feature = 4\n",
    "dim = 2\n",
    "encoder_features = [32, 16, 8]\n",
    "decoder_features = [8, 16, 32]\n",
    "kernel = 2\n",
    "rngs = nnx.Rngs(0, noise=1)\n",
    "vae = VAE(io_features=io_features, latent_feature=latent_feature, physical_dim=dim,\n",
    "          encoder_features=encoder_features, decoder_features=decoder_features, kernel=kernel, rngs=rngs)"
   ]
  },
  {
   "cell_type": "code",
   "execution_count": 69,
   "metadata": {},
   "outputs": [],
   "source": [
    "\n",
    "batch = X_train[:10]\n",
    "batch = jnp.expand_dims(batch, axis=-1)"
   ]
  },
  {
   "cell_type": "code",
   "execution_count": 71,
   "metadata": {},
   "outputs": [
    {
     "name": "stdout",
     "output_type": "stream",
     "text": [
      "(10, 24, 24, 2) (10, 24, 24, 2)\n",
      "(10, 24, 24, 2)\n"
     ]
    }
   ],
   "source": [
    "out = vae(batch)"
   ]
  },
  {
   "cell_type": "code",
   "execution_count": 72,
   "metadata": {},
   "outputs": [
    {
     "data": {
      "image/png": "[encoded data removed]",
      "text/plain": [
       "<Figure size 640x480 with 1 Axes>"
      ]
     },
     "metadata": {},
     "output_type": "display_data"
    }
   ],
   "source": [
    "plt.imshow(batch[0])\n",
    "plt.show()"
   ]
  },
  {
   "cell_type": "code",
   "execution_count": 73,
   "metadata": {},
   "outputs": [
    {
     "data": {
      "image/png": "[encoded data removed]",
      "text/plain": [
       "<Figure size 640x480 with 1 Axes>"
      ]
     },
     "metadata": {},
     "output_type": "display_data"
    }
   ],
   "source": [
    "plt.imshow(out[0])\n",
    "plt.show()"
   ]
  },
  {
   "cell_type": "code",
   "execution_count": null,
   "metadata": {},
   "outputs": [],
   "source": []
  }
 ],
 "metadata": {
  "kernelspec": {
   "display_name": "Python 3",
   "language": "python",
   "name": "python3"
  },
  "language_info": {
   "codemirror_mode": {
    "name": "ipython",
    "version": 3
   },
   "file_extension": ".py",
   "mimetype": "text/x-python",
   "name": "python",
   "nbconvert_exporter": "python",
   "pygments_lexer": "ipython3",
   "version": "3.11.undefined"
  }
 },
 "nbformat": 4,
 "nbformat_minor": 2
}
